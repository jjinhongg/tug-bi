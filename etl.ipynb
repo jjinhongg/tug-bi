{
 "cells": [
  {
   "cell_type": "code",
   "execution_count": 2,
   "metadata": {},
   "outputs": [
    {
     "name": "stderr",
     "output_type": "stream",
     "text": [
      "/tmp/ipykernel_2081/2945317536.py:5: DeprecationWarning: \n",
      "Pyarrow will become a required dependency of pandas in the next major release of pandas (pandas 3.0),\n",
      "(to allow more performant data types, such as the Arrow string type, and better interoperability with other libraries)\n",
      "but was not found to be installed on your system.\n",
      "If this would cause problems for you,\n",
      "please provide us feedback at https://github.com/pandas-dev/pandas/issues/54466\n",
      "        \n",
      "  import pandas as pd\n"
     ]
    }
   ],
   "source": [
    "import requests\n",
    "import json\n",
    "import os\n",
    "from dotenv import load_dotenv\n",
    "import pandas as pd\n",
    "\n",
    "# Load the environment variables from the .env file\n",
    "load_dotenv()\n",
    "\n",
    "# Define the parameters for the API requests\n",
    "CLIENT_ID = os.environ.get(\"CLIENT_ID\")\n",
    "CLIENT_SECRET = os.environ.get(\"CLIENT_SECRET\")\n",
    "REDIRECT_URI = os.environ.get(\"REDIRECT_URI\")\n",
    "RESTAURANT_ID = os.environ.get(\"RESTAURANT_ID\")\n",
    "ACCESS_TOKEN = os.environ.get(\"ACCESS_TOKEN\")\n",
    "REFRESH_TOKEN = os.environ.get(\"REFRESH_TOKEN\")\n",
    "\n",
    "# Set API details\n",
    "# Use the access token to interact with the Dinlr API\n",
    "base_url = \"https://api.dinlr.com/v1\"\n",
    "aheaders = {\n",
    "    \"Authorization\": f\"Bearer {ACCESS_TOKEN}\"\n",
    "}\n",
    "\n",
    "rheaders = {\n",
    "    \"Authorization\": f\"Bearer {REFRESH_TOKEN}\"\n",
    "}\n",
    "lTUG_ID = 'a7e56eeb-98db-402d-bea1-1ee35d54a4fd'\n",
    "lEVENT_ID = '6bf38c18-a852-439b-aa54-007547f1bb6a'\n",
    "\n",
    "# Send the GET request to the locations endpoint\n",
    "# response = requests.get(f\"https://api.dinlr.com/v1/{RESTAURANT_ID}/onlineorder/locations\", headers=aheaders)\n",
    "# data = response.json()"
   ]
  },
  {
   "cell_type": "markdown",
   "metadata": {},
   "source": [
    "Defining the functions to get order and order details."
   ]
  },
  {
   "cell_type": "code",
   "execution_count": 8,
   "metadata": {},
   "outputs": [],
   "source": [
    "# Function to get all orders\n",
    "# Function to get all orders\n",
    "def get_all_orders(location_id):\n",
    "    page = 1\n",
    "    orders = []\n",
    "    \n",
    "    try:\n",
    "        while True:\n",
    "            url = f\"{base_url}/{RESTAURANT_ID}/onlineorder/orders?location_id={location_id}&page={page}\"\n",
    "            response = requests.get(url, headers=aheaders)\n",
    "            data = response.json()[\"data\"]\n",
    "            \n",
    "            if not data:\n",
    "                break\n",
    "            \n",
    "            orders.extend(data)\n",
    "            page += 1\n",
    "            \n",
    "    except Exception as e:\n",
    "        print(f\"An error occurred: {str(e)}\")\n",
    "    \n",
    "    return orders\n",
    "\n",
    "# Function to get order details\n",
    "def get_order_details(order_id):\n",
    "    url = f\"{base_url}/{RESTAURANT_ID}/onlineorder/orders/{order_id}\"\n",
    "    response = requests.get(url, headers=aheaders)\n",
    "    order_details = response.json()[\"data\"]\n",
    "    return order_details"
   ]
  },
  {
   "cell_type": "code",
   "execution_count": 9,
   "metadata": {},
   "outputs": [],
   "source": [
    "# Fetch all orders and their details\n",
    "TUG_orders = get_all_orders(lTUG_ID)\n",
    "EVENT_orders = get_all_orders(lEVENT_ID)\n",
    "\n",
    "TUG_all_order_details = [get_order_details(order[\"id\"]) for order in TUG_orders]\n",
    "EVENT_all_order_details = [get_order_details(order[\"id\"]) for order in EVENT_orders]\n",
    "\n",
    "# Convert to DataFrame\n",
    "TUG_df_orders = pd.DataFrame(TUG_all_order_details)\n",
    "EVENT_df_orders = pd.DataFrame(EVENT_all_order_details)"
   ]
  },
  {
   "cell_type": "code",
   "execution_count": 10,
   "metadata": {},
   "outputs": [
    {
     "data": {
      "text/plain": [
       "id                         6394\n",
       "customer                    100\n",
       "order_no                   6394\n",
       "order_ticket                  1\n",
       "dining_option              6394\n",
       "dining_option_name         6394\n",
       "pax                        6394\n",
       "subtotal                   6394\n",
       "total                      6394\n",
       "rounding                   6394\n",
       "paid                       6394\n",
       "status                     6394\n",
       "financial_status           6394\n",
       "kitchen_status               10\n",
       "expedite_status              10\n",
       "notes                        14\n",
       "void_reason                  54\n",
       "updated_at                 6394\n",
       "created_at                 6394\n",
       "objects                    6394\n",
       "items                      6394\n",
       "discounts                  6394\n",
       "charges                    6394\n",
       "taxes                      6394\n",
       "manufacturer_discounts     6394\n",
       "loyalty_program_rewards    6394\n",
       "vouchers                   6394\n",
       "payments                   6394\n",
       "refunds                    6394\n",
       "dtype: int64"
      ]
     },
     "execution_count": 10,
     "metadata": {},
     "output_type": "execute_result"
    }
   ],
   "source": [
    "TUG_df_orders.count()"
   ]
  },
  {
   "cell_type": "code",
   "execution_count": 11,
   "metadata": {},
   "outputs": [
    {
     "data": {
      "text/plain": [
       "6394"
      ]
     },
     "execution_count": 11,
     "metadata": {},
     "output_type": "execute_result"
    }
   ],
   "source": [
    "len(TUG_orders)"
   ]
  },
  {
   "cell_type": "code",
   "execution_count": 44,
   "metadata": {},
   "outputs": [],
   "source": [
    "parsed = json.loads(TUG_df_orders.to_json(orient=\"records\"))\n",
    "with open(\"TUG_orders.json\", \"w\") as json_file:\n",
    "    json.dump(parsed, json_file, indent=4)\n",
    "\n",
    "parsed = json.loads(EVENT_df_orders.to_json(orient=\"records\"))\n",
    "with open(\"EVENT_orders.json\", \"w\") as json_file:\n",
    "    json.dump(parsed, json_file, indent=4)"
   ]
  },
  {
   "cell_type": "code",
   "execution_count": 37,
   "metadata": {},
   "outputs": [],
   "source": [
    "TUG_df_orders_items = pd.json_normalize(TUG_df_orders['items'].explode())"
   ]
  },
  {
   "cell_type": "markdown",
   "metadata": {},
   "source": [
    "Save to parquet / json"
   ]
  },
  {
   "cell_type": "code",
   "execution_count": null,
   "metadata": {},
   "outputs": [],
   "source": [
    "# # Save to Parquet with GZIP compression\n",
    "# parquet_file = '/mnt/data/orders.parquet.gzip'\n",
    "# df_orders.to_parquet(parquet_file, compression='gzip')"
   ]
  }
 ],
 "metadata": {
  "kernelspec": {
   "display_name": "Python 3",
   "language": "python",
   "name": "python3"
  },
  "language_info": {
   "codemirror_mode": {
    "name": "ipython",
    "version": 3
   },
   "file_extension": ".py",
   "mimetype": "text/x-python",
   "name": "python",
   "nbconvert_exporter": "python",
   "pygments_lexer": "ipython3",
   "version": "3.10.13"
  }
 },
 "nbformat": 4,
 "nbformat_minor": 2
}
