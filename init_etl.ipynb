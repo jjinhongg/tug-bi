{
 "cells": [
  {
   "cell_type": "code",
   "execution_count": 7,
   "metadata": {},
   "outputs": [],
   "source": [
    "# Import necessary modules\n",
    "import requests\n",
    "import json\n",
    "import os\n",
    "from dotenv import load_dotenv\n",
    "import pandas as pd\n",
    "import boto3\n",
    "\n",
    "# Define the parameters for the API requests\n",
    "load_dotenv()\n",
    "\n",
    "# Provide the access key from AWS SSM\n",
    "AWS_ACCESS_KEY = os.getenv('AWS_ACCESS_KEY')\n",
    "AWS_SECRET_ACCESS_KEY = os.getenv('AWS_SECRET_ACCESS_KEY')\n",
    "session = boto3.Session(aws_access_key_id=AWS_ACCESS_KEY, aws_secret_access_key=AWS_SECRET_ACCESS_KEY)\n",
    "ssm_client = session.client('ssm', region_name='ap-southeast-2')\n",
    "\n",
    "# Test the connection to AWS SSM\n",
    "response = ssm_client.get_parameters_by_path(\n",
    "    Path='/tug-dinlr/api/',\n",
    "    Recursive=True,\n",
    "    WithDecryption=True\n",
    ")\n"
   ]
  },
  {
   "cell_type": "markdown",
   "metadata": {},
   "source": [
    "Get the secrets from AWS SSM"
   ]
  },
  {
   "cell_type": "code",
   "execution_count": 9,
   "metadata": {},
   "outputs": [],
   "source": [
    "# Function to get secrets from AWS SSM\n",
    "def get_secrets():\n",
    "    \n",
    "    response = ssm_client.get_parameters_by_path(\n",
    "        Path='/tug-dinlr/api/',\n",
    "        Recursive=True,\n",
    "        WithDecryption=True\n",
    "    )\n",
    "    \n",
    "    secrets = {param['Name'].split('/')[-1]: param['Value'] for param in response['Parameters']}\n",
    "    \n",
    "    return secrets\n",
    "\n",
    "# Get secrets\n",
    "secrets = get_secrets()"
   ]
  },
  {
   "cell_type": "code",
   "execution_count": 15,
   "metadata": {},
   "outputs": [
    {
     "name": "stdout",
     "output_type": "stream",
     "text": [
      "{'data': [{'id': 'a7e56eeb-98db-402d-bea1-1ee35d54a4fd', 'name': 'tug GELATO', 'updated_at': '2023-11-19T08:14:06+08:00'}, {'id': '6bf38c18-a852-439b-aa54-007547f1bb6a', 'name': 'tug @ Event', 'updated_at': '2024-05-15T21:39:47+08:00'}, {'id': 'dd6564a8-1d55-4f2b-a73f-23f77aa59141', 'name': 'tug @ Bangsar', 'updated_at': '2024-05-17T19:17:59+08:00'}]}\n"
     ]
    }
   ],
   "source": [
    "# Set API details\n",
    "# Use the access token to interact with the Dinlr API\n",
    "base_url = \"https://api.dinlr.com/v1\"\n",
    "aheaders = {\n",
    "    \"Authorization\": f\"Bearer {secrets['ACCESS_TOKEN']}\"\n",
    "}\n",
    "\n",
    "rheaders = {\n",
    "    \"Authorization\": f\"Bearer {secrets['REFRESH_TOKEN']}\"\n",
    "}\n",
    "lTUG_ID = 'a7e56eeb-98db-402d-bea1-1ee35d54a4fd'\n",
    "lEVENT_ID = '6bf38c18-a852-439b-aa54-007547f1bb6a'\n",
    "RESTAURANT_ID = '0c39f1fa-9a87-4471-b7d4-78eaff9f7f1c'\n",
    "\n",
    "# Send the GET request to the locations endpoint\n",
    "response = requests.get(f\"https://api.dinlr.com/v1/{RESTAURANT_ID}/onlineorder/locations\", headers=aheaders)\n",
    "data = response.json()\n",
    "print(data)\n",
    "\n"
   ]
  },
  {
   "cell_type": "markdown",
   "metadata": {},
   "source": [
    "Defining the functions to get order and order details."
   ]
  },
  {
   "cell_type": "code",
   "execution_count": 8,
   "metadata": {},
   "outputs": [],
   "source": [
    "# Function to get all orders\n",
    "def get_all_orders(location_id):\n",
    "    page = 1\n",
    "    orders = []\n",
    "    \n",
    "    try:\n",
    "        while True:\n",
    "            url = f\"{base_url}/{RESTAURANT_ID}/onlineorder/orders?location_id={location_id}&page={page}\"\n",
    "            response = requests.get(url, headers=aheaders)\n",
    "            data = response.json()[\"data\"]\n",
    "            \n",
    "            if not data:\n",
    "                break\n",
    "            \n",
    "            orders.extend(data)\n",
    "            page += 1\n",
    "            \n",
    "    except Exception as e:\n",
    "        print(f\"An error occurred: {str(e)}\")\n",
    "    \n",
    "    return orders\n",
    "\n",
    "# Function to get order details\n",
    "def get_order_details(order_id):\n",
    "    url = f\"{base_url}/{RESTAURANT_ID}/onlineorder/orders/{order_id}\"\n",
    "    response = requests.get(url, headers=aheaders)\n",
    "    order_details = response.json()[\"data\"]\n",
    "    return order_details"
   ]
  },
  {
   "cell_type": "code",
   "execution_count": 9,
   "metadata": {},
   "outputs": [],
   "source": [
    "# Fetch all orders and their details\n",
    "TUG_orders = get_all_orders(lTUG_ID)\n",
    "EVENT_orders = get_all_orders(lEVENT_ID)\n",
    "\n",
    "TUG_all_order_details = [get_order_details(order[\"id\"]) for order in TUG_orders]\n",
    "EVENT_all_order_details = [get_order_details(order[\"id\"]) for order in EVENT_orders]\n",
    "\n",
    "# Convert to DataFrame\n",
    "TUG_df_orders = pd.DataFrame(TUG_all_order_details)\n",
    "EVENT_df_orders = pd.DataFrame(EVENT_all_order_details)"
   ]
  },
  {
   "cell_type": "code",
   "execution_count": 10,
   "metadata": {},
   "outputs": [
    {
     "data": {
      "text/plain": [
       "id                         6394\n",
       "customer                    100\n",
       "order_no                   6394\n",
       "order_ticket                  1\n",
       "dining_option              6394\n",
       "dining_option_name         6394\n",
       "pax                        6394\n",
       "subtotal                   6394\n",
       "total                      6394\n",
       "rounding                   6394\n",
       "paid                       6394\n",
       "status                     6394\n",
       "financial_status           6394\n",
       "kitchen_status               10\n",
       "expedite_status              10\n",
       "notes                        14\n",
       "void_reason                  54\n",
       "updated_at                 6394\n",
       "created_at                 6394\n",
       "objects                    6394\n",
       "items                      6394\n",
       "discounts                  6394\n",
       "charges                    6394\n",
       "taxes                      6394\n",
       "manufacturer_discounts     6394\n",
       "loyalty_program_rewards    6394\n",
       "vouchers                   6394\n",
       "payments                   6394\n",
       "refunds                    6394\n",
       "dtype: int64"
      ]
     },
     "execution_count": 10,
     "metadata": {},
     "output_type": "execute_result"
    }
   ],
   "source": [
    "TUG_df_orders.count()"
   ]
  },
  {
   "cell_type": "code",
   "execution_count": 11,
   "metadata": {},
   "outputs": [
    {
     "data": {
      "text/plain": [
       "6394"
      ]
     },
     "execution_count": 11,
     "metadata": {},
     "output_type": "execute_result"
    }
   ],
   "source": [
    "len(TUG_orders)"
   ]
  },
  {
   "cell_type": "code",
   "execution_count": 44,
   "metadata": {},
   "outputs": [],
   "source": [
    "parsed = json.loads(TUG_df_orders.to_json(orient=\"records\"))\n",
    "with open(\"TUG_orders.json\", \"w\") as json_file:\n",
    "    json.dump(parsed, json_file, indent=4)\n",
    "\n",
    "parsed = json.loads(EVENT_df_orders.to_json(orient=\"records\"))\n",
    "with open(\"EVENT_orders.json\", \"w\") as json_file:\n",
    "    json.dump(parsed, json_file, indent=4)"
   ]
  },
  {
   "cell_type": "code",
   "execution_count": 37,
   "metadata": {},
   "outputs": [],
   "source": [
    "TUG_df_orders_items = pd.json_normalize(TUG_df_orders['items'].explode())"
   ]
  },
  {
   "cell_type": "markdown",
   "metadata": {},
   "source": [
    "Save to parquet / json"
   ]
  },
  {
   "cell_type": "code",
   "execution_count": null,
   "metadata": {},
   "outputs": [],
   "source": [
    "# # Save to Parquet with GZIP compression\n",
    "# parquet_file = '/mnt/data/orders.parquet.gzip'\n",
    "# df_orders.to_parquet(parquet_file, compression='gzip')"
   ]
  }
 ],
 "metadata": {
  "kernelspec": {
   "display_name": "Python 3",
   "language": "python",
   "name": "python3"
  },
  "language_info": {
   "codemirror_mode": {
    "name": "ipython",
    "version": 3
   },
   "file_extension": ".py",
   "mimetype": "text/x-python",
   "name": "python",
   "nbconvert_exporter": "python",
   "pygments_lexer": "ipython3",
   "version": "3.10.13"
  }
 },
 "nbformat": 4,
 "nbformat_minor": 2
}
